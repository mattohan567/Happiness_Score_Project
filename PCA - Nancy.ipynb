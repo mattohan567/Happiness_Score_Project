{
 "cells": [
  {
   "cell_type": "markdown",
   "metadata": {},
   "source": [
    "# PCA"
   ]
  },
  {
   "cell_type": "code",
   "execution_count": 1,
   "metadata": {},
   "outputs": [],
   "source": [
    "import glob\n",
    "import numpy as np\n",
    "import pandas as pd\n",
    "import numpy.linalg as la\n",
    "import matplotlib.pyplot as plt\n",
    "import PIL\n",
    "import scipy.io as sci\n",
    "import matplotlib.colors as colors\n",
    "import numpy.random as npr\n",
    "import seaborn as sns\n",
    "import csv\n",
    "from sklearn.model_selection import train_test_split\n",
    "from sklearn.preprocessing import MinMaxScaler\n",
    "from sklearn.decomposition import PCA\n",
    "from sklearn.decomposition import KernelPCA\n",
    "%matplotlib inline"
   ]
  },
  {
   "cell_type": "markdown",
   "metadata": {},
   "source": [
    "### 1. Data Preprocessing "
   ]
  },
  {
   "cell_type": "code",
   "execution_count": 34,
   "metadata": {},
   "outputs": [],
   "source": [
    "# Load the training and testing data\n",
    "train_data = pd.read_excel('/Users/nancyzhang/Desktop/UCLA/SeniorFall/Math156/FinalProj/TrainFull.xlsx') \n",
    "test_data = pd.read_excel('/Users/nancyzhang/Desktop/UCLA/SeniorFall/Math156/FinalProj/TestFull.xlsx')\n",
    "# Eliminate the column 'year' to avoid problems in standardization\n",
    "columns_to_keep = ['Life Ladder', 'Log GDP per capita', 'Healthy life expectancy at birth',\n",
    "                   'Freedom to make life choices', 'Generosity', 'Perceptions of corruption', 'Positive affect', 'Negative affect', 'Confidence in national government', 'Social support']\n",
    "train_data = train_data.filter(columns_to_keep)\n",
    "test_data = test_data.filter(columns_to_keep)"
   ]
  },
  {
   "cell_type": "code",
   "execution_count": 35,
   "metadata": {},
   "outputs": [
    {
     "data": {
      "text/plain": [
       "(834, 10)"
      ]
     },
     "execution_count": 35,
     "metadata": {},
     "output_type": "execute_result"
    }
   ],
   "source": [
    "train_data.shape"
   ]
  },
  {
   "cell_type": "code",
   "execution_count": 36,
   "metadata": {},
   "outputs": [],
   "source": [
    "# Further split into X_train, Y_train, X_test, Y_test\n",
    "X_train = train_data.iloc[:,0:9]\n",
    "Y_train = train_data.iloc[:,-1]\n",
    "X_test = test_data.iloc[:,0:9]\n",
    "Y_test = test_data.iloc[:,-1]"
   ]
  },
  {
   "cell_type": "markdown",
   "metadata": {},
   "source": [
    "### 2. Implement PCA on training data "
   ]
  },
  {
   "cell_type": "code",
   "execution_count": 37,
   "metadata": {},
   "outputs": [],
   "source": [
    "# Standarize the features\n",
    "scaler = MinMaxScaler()\n",
    "X_train = scaler.fit_transform(X_train)"
   ]
  },
  {
   "cell_type": "code",
   "execution_count": 38,
   "metadata": {},
   "outputs": [
    {
     "data": {
      "text/plain": [
       "(834, 9)"
      ]
     },
     "execution_count": 38,
     "metadata": {},
     "output_type": "execute_result"
    }
   ],
   "source": [
    "# Center the data for PCA\n",
    "mu = np.mean(X_train,axis = 0, keepdims = True)\n",
    "X_train_tilde = X_train - mu\n",
    "X_train_tilde.shape"
   ]
  },
  {
   "cell_type": "code",
   "execution_count": 39,
   "metadata": {},
   "outputs": [],
   "source": [
    "S = X_train_tilde.T@X_train_tilde\n",
    "\n",
    "D, V = np.linalg.eig(S)\n",
    "\n",
    "# sort D, and then sort V the same way to get the eigenvectors in descending order\n",
    "order = D.argsort()[::-1]\n",
    "V = V[:, order]\n",
    "\n",
    "U = X_train_tilde@V"
   ]
  },
  {
   "cell_type": "code",
   "execution_count": 40,
   "metadata": {},
   "outputs": [
    {
     "data": {
      "image/png": "[encoded data removed]",
      "text/plain": [
       "<Figure size 432x288 with 1 Axes>"
      ]
     },
     "metadata": {
      "needs_background": "light"
     },
     "output_type": "display_data"
    }
   ],
   "source": [
    "plt.plot(D,'bo')\n",
    "plt.title('Singular values')\n",
    "plt.show()"
   ]
  },
  {
   "cell_type": "markdown",
   "metadata": {},
   "source": [
    "We can see that the \"drop\" of the plot becomes slow after the third singular value, so we know that the first three principal components cover the majority of the variance within the data. We can also confirm this by calculating the variance."
   ]
  },
  {
   "cell_type": "code",
   "execution_count": 41,
   "metadata": {},
   "outputs": [
    {
     "data": {
      "text/plain": [
       "0.6732929507670499"
      ]
     },
     "execution_count": 41,
     "metadata": {},
     "output_type": "execute_result"
    }
   ],
   "source": [
    "# Variance of the first two PCs\n",
    "variance = (D[0]+D[1])/np.sum(D)\n",
    "variance"
   ]
  },
  {
   "cell_type": "code",
   "execution_count": 42,
   "metadata": {},
   "outputs": [
    {
     "data": {
      "text/plain": [
       "0.7705151222333501"
      ]
     },
     "execution_count": 42,
     "metadata": {},
     "output_type": "execute_result"
    }
   ],
   "source": [
    "# Variance of the first three PCs\n",
    "variance = (D[0]+D[1]+D[2])/np.sum(D)\n",
    "variance"
   ]
  },
  {
   "cell_type": "code",
   "execution_count": 43,
   "metadata": {},
   "outputs": [
    {
     "data": {
      "text/plain": [
       "0.7873355550282444"
      ]
     },
     "execution_count": 43,
     "metadata": {},
     "output_type": "execute_result"
    }
   ],
   "source": [
    "# Variance of the first four PCs\n",
    "variance = (D[0]+D[1]+D[2]+D[3])/np.sum(D)\n",
    "variance"
   ]
  },
  {
   "cell_type": "markdown",
   "metadata": {},
   "source": [
    "The total variance doesn't change much after including the fourth principal component, so we know that the first three principal components, or eigenvectors, count for most of the variance (77.1%) of the data."
   ]
  },
  {
   "cell_type": "code",
   "execution_count": null,
   "metadata": {},
   "outputs": [],
   "source": []
  }
 ],
 "metadata": {
  "kernelspec": {
   "display_name": "Python 3 (ipykernel)",
   "language": "python",
   "name": "python3"
  },
  "language_info": {
   "codemirror_mode": {
    "name": "ipython",
    "version": 3
   },
   "file_extension": ".py",
   "mimetype": "text/x-python",
   "name": "python",
   "nbconvert_exporter": "python",
   "pygments_lexer": "ipython3",
   "version": "3.8.5"
  }
 },
 "nbformat": 4,
 "nbformat_minor": 4
}
