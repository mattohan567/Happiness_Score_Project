{
 "cells": [
  {
   "cell_type": "code",
   "execution_count": 1,
   "id": "c0b5b02f",
   "metadata": {},
   "outputs": [],
   "source": [
    "import numpy as np\n",
    "import pandas as pd\n",
    "import math\n",
    "from sklearn.preprocessing import StandardScaler\n",
    "import statistics as st\n",
    "from sklearn import datasets\n",
    "from sklearn.model_selection import train_test_split\n",
    "from sklearn.preprocessing import StandardScaler\n",
    "import matplotlib.pyplot as plt"
   ]
  },
  {
   "cell_type": "markdown",
   "id": "2cc3893d",
   "metadata": {},
   "source": [
    "# K Nearest Neighbors (KNN)"
   ]
  },
  {
   "cell_type": "code",
   "execution_count": 2,
   "id": "bd99cbf1",
   "metadata": {},
   "outputs": [],
   "source": [
    "def euclidian(point, data):\n",
    "    #calculate the euclidean distance: sqrt((x1-y1)^2 + (x2-y2)^2 + ...)\n",
    "    dist = np.sqrt(np.sum((point - data)**2, axis=1))\n",
    "    return dist"
   ]
  },
  {
   "cell_type": "code",
   "execution_count": 3,
   "id": "8b1e8d91",
   "metadata": {},
   "outputs": [
    {
     "data": {
      "text/plain": [
       "array([2.44948974, 7.34846923])"
      ]
     },
     "execution_count": 3,
     "metadata": {},
     "output_type": "execute_result"
    }
   ],
   "source": [
    "#Check: \n",
    "data = np.array([[1,2,3,4],[5,6,7,8]])\n",
    "point = np.array([3,3,3,3])\n",
    "euclidian(point, data)"
   ]
  },
  {
   "cell_type": "code",
   "execution_count": 4,
   "id": "d1307fc5",
   "metadata": {},
   "outputs": [],
   "source": [
    "def mode(values):\n",
    "    mode = st.mode(values)\n",
    "    return mode"
   ]
  },
  {
   "cell_type": "code",
   "execution_count": 5,
   "id": "3062d1dc",
   "metadata": {},
   "outputs": [
    {
     "data": {
      "text/plain": [
       "'sad'"
      ]
     },
     "execution_count": 5,
     "metadata": {},
     "output_type": "execute_result"
    }
   ],
   "source": [
    "#Check:\n",
    "values = [3,3,3,3,3,4,4,4,4,5,5,5,5,5,5,5,5,5,5,6,6,6,6,6,8]\n",
    "values = ['happy', 'sad', 'happy', 'sad', 'sad']\n",
    "mode(values)"
   ]
  },
  {
   "cell_type": "code",
   "execution_count": 6,
   "id": "b03f7b86",
   "metadata": {},
   "outputs": [],
   "source": [
    "class KNN:\n",
    "    def __init__(self, k = 5):\n",
    "        self.k = k\n",
    "        self.dist = euclidian\n",
    "        \n",
    "    def fit(self, X_train, y_train):\n",
    "        self.X_train = X_train\n",
    "        self.y_train = y_train\n",
    "        \n",
    "    def predict(self, X_test):\n",
    "        neighbors = []\n",
    "        for x in X_test:\n",
    "            distances = self.dist(x, self.X_train)\n",
    "            y_sorted = [y for _, y in sorted(zip(distances, self.y_train))]\n",
    "            neighbors.append(y_sorted[:self.k])\n",
    "        return list(map(mode, neighbors))\n",
    "    \n",
    "    def evaluate(self, X_test, y_test):\n",
    "        y_hat = self.predict(X_test)\n",
    "        accuracy = sum(y_hat == y_test) / len(y_test)\n",
    "        return accuracy"
   ]
  },
  {
   "cell_type": "markdown",
   "id": "27c95120-1e39-42fe-93be-fce055790992",
   "metadata": {
    "jp-MarkdownHeadingCollapsed": true,
    "tags": []
   },
   "source": [
    "# K-Means Clustering"
   ]
  },
  {
   "cell_type": "code",
   "execution_count": 7,
   "id": "eddc6574-a8e9-40bd-81a8-ca7900b00ccb",
   "metadata": {},
   "outputs": [],
   "source": [
    "import numpy as np\n",
    "import pandas as pd\n",
    "import random\n",
    "import matplotlib.pyplot as plt"
   ]
  },
  {
   "cell_type": "code",
   "execution_count": 8,
   "id": "852f4ece-b886-4f68-abe4-035dc631a6cc",
   "metadata": {},
   "outputs": [],
   "source": [
    "X = pd.read_excel('TrainFull.xlsx').iloc[:, 1:]\n",
    "x = np.array(X.loc[:, ['Life Ladder', 'Social support']])"
   ]
  },
  {
   "cell_type": "code",
   "execution_count": 9,
   "id": "1dcd7da5-cd82-4124-895f-9456cc74a902",
   "metadata": {},
   "outputs": [],
   "source": [
    "def calcerror(data, rnk, centers):\n",
    "    err = 0.0\n",
    "    for i in np.arange(len(centers)):\n",
    "        err = err + np.sum((np.linalg.norm(data[np.where(rnk==i)[0], :] - centers[i], axis=1))**2, axis=0)\n",
    "    return err\n",
    "\n",
    "def kmeans(data, k):\n",
    "    num = 5  \n",
    "    error = -1\n",
    "    fincenters = None\n",
    "    finrnk = None\n",
    "    \n",
    "    # run 5 models and only update the final centers and labels if the error is lower than the previous\n",
    "    for l in np.arange(num):\n",
    "        # step 1\n",
    "        centers = data[random.sample(range(data.shape[0]), k), :]\n",
    "        newcenters = np.zeros(centers.shape)\n",
    "        abort = 0    \n",
    "        # cap the algorithm at 10 iterations, any more and it will just use up computational time\n",
    "        for j in np.arange(10):\n",
    "            # step 2\n",
    "            temp = np.empty([len(centers), len(data)])\n",
    "            for i in np.arange(len(centers)):\n",
    "                temp[i] = (np.linalg.norm(data - centers[i], axis=1))**2\n",
    "            dist = pd.DataFrame(temp.T)\n",
    "            rnk = np.array(dist.idxmin(axis=1))\n",
    "\n",
    "            if(abort):\n",
    "                break\n",
    "            # step 3\n",
    "            for i in np.arange(len(centers)):\n",
    "                newcenters[i] = np.sum(data[np.where(rnk==i)[0], :], axis=0) / len(np.where(rnk==i)[0])\n",
    "\n",
    "            if(np.array_equal(centers, newcenters)):\n",
    "                abort = 1\n",
    "            centers = newcenters\n",
    "            \n",
    "        if(error == -1):\n",
    "            error = calcerror(data, rnk, centers)\n",
    "            fincenters = centers\n",
    "            finrnk = rnk\n",
    "        elif(error > calcerror(data, rnk, centers)):\n",
    "            fincenters = centers\n",
    "            finrnk = rnk\n",
    "            error = calcerror(data, rnk, centers)\n",
    "            \n",
    "    return(fincenters, finrnk)"
   ]
  },
  {
   "cell_type": "code",
   "execution_count": 10,
   "id": "5c9c2484-96b8-424b-bcdc-efc410252e9f",
   "metadata": {},
   "outputs": [
    {
     "data": {
      "text/plain": [
       "<matplotlib.collections.PathCollection at 0x7fddb08672b0>"
      ]
     },
     "execution_count": 10,
     "metadata": {},
     "output_type": "execute_result"
    },
    {
     "data": {
      "image/png": "[encoded data removed]",
      "text/plain": [
       "<Figure size 432x288 with 1 Axes>"
      ]
     },
     "metadata": {
      "needs_background": "light"
     },
     "output_type": "display_data"
    }
   ],
   "source": [
    "centers, labels = kmeans(x, 3)\n",
    "plt.scatter(x[:, 0], x[:, 1], c=labels, cmap='rainbow')\n",
    "plt.scatter(centers[:, 0], centers[:, 1], marker='x', color='black')"
   ]
  },
  {
   "cell_type": "code",
   "execution_count": null,
   "id": "f1aeff8a-a3bd-4c89-aa8e-ad2416f24564",
   "metadata": {},
   "outputs": [],
   "source": []
  },
  {
   "cell_type": "code",
   "execution_count": null,
   "id": "4e490d15-c492-401c-8b99-689fa87d5883",
   "metadata": {},
   "outputs": [],
   "source": []
  },
  {
   "cell_type": "code",
   "execution_count": null,
   "id": "ac81117a-78f6-4bf3-aed1-e1aa05192701",
   "metadata": {},
   "outputs": [],
   "source": []
  },
  {
   "cell_type": "markdown",
   "id": "92b92ebc-be81-4dd5-aa77-408fb22fb5b7",
   "metadata": {},
   "source": [
    "# Implementing KNN algorithm"
   ]
  },
  {
   "cell_type": "code",
   "execution_count": 11,
   "id": "c84b9428-e000-4551-b70a-92e59ff0456a",
   "metadata": {},
   "outputs": [
    {
     "data": {
      "text/plain": [
       "Text(0.5, 0, 'Social Support')"
      ]
     },
     "execution_count": 11,
     "metadata": {},
     "output_type": "execute_result"
    },
    {
     "data": {
      "image/png": "[encoded data removed]",
      "text/plain": [
       "<Figure size 432x288 with 1 Axes>"
      ]
     },
     "metadata": {
      "needs_background": "light"
     },
     "output_type": "display_data"
    }
   ],
   "source": [
    "plt.hist(X['Social support'])\n",
    "plt.title('Histogram of Social Support')\n",
    "plt.ylabel('Frequency')\n",
    "plt.xlabel('Social Support')"
   ]
  },
  {
   "cell_type": "code",
   "execution_count": 12,
   "id": "3047b06e-f6e5-4604-bdca-0fb14178a2f5",
   "metadata": {},
   "outputs": [
    {
     "data": {
      "text/plain": [
       "238"
      ]
     },
     "execution_count": 12,
     "metadata": {},
     "output_type": "execute_result"
    }
   ],
   "source": [
    "sum(X['Social support'] > 0.9)"
   ]
  },
  {
   "cell_type": "code",
   "execution_count": 13,
   "id": "323f20c7-ecfa-480b-ba5d-af184387c244",
   "metadata": {},
   "outputs": [
    {
     "data": {
      "text/plain": [
       "376"
      ]
     },
     "execution_count": 13,
     "metadata": {},
     "output_type": "execute_result"
    }
   ],
   "source": [
    "sum((X['Social support'] <= 0.9) & (X['Social support'] > 0.75))"
   ]
  },
  {
   "cell_type": "code",
   "execution_count": 14,
   "id": "ba2b3640-9346-4edf-8a3d-357e4bf8dd9f",
   "metadata": {},
   "outputs": [
    {
     "data": {
      "text/plain": [
       "220"
      ]
     },
     "execution_count": 14,
     "metadata": {},
     "output_type": "execute_result"
    }
   ],
   "source": [
    "sum(X['Social support'] <= 0.75)"
   ]
  },
  {
   "cell_type": "code",
   "execution_count": null,
   "id": "1756c2d6-eb9c-4533-b83e-9c66db33f341",
   "metadata": {},
   "outputs": [],
   "source": []
  },
  {
   "cell_type": "code",
   "execution_count": 15,
   "id": "b0d90594-f7f1-4155-8aa1-815afe1d1c52",
   "metadata": {},
   "outputs": [],
   "source": [
    "X['SSClass'] = 0"
   ]
  },
  {
   "cell_type": "code",
   "execution_count": 16,
   "id": "80399908-b4d8-4bad-9318-45e02fbcc20a",
   "metadata": {},
   "outputs": [],
   "source": [
    "X.loc[(X['Social support'] <= 0.9) & (X['Social support'] > 0.75),'SSClass'] = 1\n",
    "X.loc[X['Social support'] > 0.9,'SSClass'] = 2"
   ]
  },
  {
   "cell_type": "code",
   "execution_count": 17,
   "id": "c3b05f2b-bec0-4e36-978a-b22f1dffedd7",
   "metadata": {},
   "outputs": [
    {
     "data": {
      "text/plain": [
       "1    376\n",
       "2    238\n",
       "0    220\n",
       "Name: SSClass, dtype: int64"
      ]
     },
     "execution_count": 17,
     "metadata": {},
     "output_type": "execute_result"
    }
   ],
   "source": [
    "X.SSClass.value_counts()"
   ]
  },
  {
   "cell_type": "code",
   "execution_count": 18,
   "id": "977b1db2-14cb-4609-a7da-d2e08b151ad0",
   "metadata": {},
   "outputs": [],
   "source": [
    "# Using KNN to categorize \n",
    "train = pd.read_excel('TrainFull.xlsx').iloc[:,1:]\n",
    "train['SSClass'] = 0\n",
    "train.loc[(train['Social support'] <= 0.9) & (train['Social support'] > 0.75)\n",
    "          ,'SSClass'] = 1\n",
    "train.loc[train['Social support'] > 0.9,'SSClass'] = 2\n",
    "\n",
    "test = pd.read_excel('TestFull.xlsx').iloc[:,1:]\n",
    "test['SSClass'] = 0\n",
    "test.loc[(test['Social support'] <= 0.9) & (test['Social support'] > 0.75)\n",
    "          ,'SSClass'] = 1\n",
    "test.loc[test['Social support'] > 0.9,'SSClass'] = 2\n",
    "\n",
    "\n",
    "X_train = train.iloc[:,2:11]\n",
    "y_train = train.SSClass\n",
    "X_test = test.iloc[:, 2:11]\n",
    "y_test = test.SSClass"
   ]
  },
  {
   "cell_type": "code",
   "execution_count": 19,
   "id": "cc1dd527-7302-47cf-a5df-fc680f19e303",
   "metadata": {},
   "outputs": [
    {
     "data": {
      "image/png": "[encoded data removed]",
      "text/plain": [
       "<Figure size 432x288 with 1 Axes>"
      ]
     },
     "metadata": {
      "needs_background": "light"
     },
     "output_type": "display_data"
    }
   ],
   "source": [
    "kMax = 200\n",
    "ss = StandardScaler().fit(X_train)\n",
    "X_train, X_test = ss.transform(X_train), ss.transform(X_test)\n",
    "# Test knn model across varying ks\n",
    "accuracies = []\n",
    "ks = range(1, kMax)\n",
    "for k in ks:\n",
    "    knn = KNN(k=k)\n",
    "    knn.fit(X_train, y_train)\n",
    "    accuracy = knn.evaluate(X_test, y_test)\n",
    "    accuracies.append(accuracy)\n",
    "# Visualize accuracy vs. k\n",
    "fig, ax = plt.subplots()\n",
    "ax.plot(ks, accuracies)\n",
    "ax.set(xlabel=\"k\",\n",
    "       ylabel=\"Accuracy\",\n",
    "       title=\"Performance of KNN\")\n",
    "plt.show()"
   ]
  },
  {
   "cell_type": "code",
   "execution_count": 20,
   "id": "0a20d6a3-6be8-4392-9510-21566464cdf1",
   "metadata": {},
   "outputs": [
    {
     "data": {
      "text/html": [
       "<div>\n",
       "<style scoped>\n",
       "    .dataframe tbody tr th:only-of-type {\n",
       "        vertical-align: middle;\n",
       "    }\n",
       "\n",
       "    .dataframe tbody tr th {\n",
       "        vertical-align: top;\n",
       "    }\n",
       "\n",
       "    .dataframe thead th {\n",
       "        text-align: right;\n",
       "    }\n",
       "</style>\n",
       "<table border=\"1\" class=\"dataframe\">\n",
       "  <thead>\n",
       "    <tr style=\"text-align: right;\">\n",
       "      <th></th>\n",
       "      <th>accuracies</th>\n",
       "    </tr>\n",
       "  </thead>\n",
       "  <tbody>\n",
       "    <tr>\n",
       "      <th>3</th>\n",
       "      <td>0.781513</td>\n",
       "    </tr>\n",
       "  </tbody>\n",
       "</table>\n",
       "</div>"
      ],
      "text/plain": [
       "   accuracies\n",
       "3    0.781513"
      ]
     },
     "execution_count": 20,
     "metadata": {},
     "output_type": "execute_result"
    }
   ],
   "source": [
    "results = pd.DataFrame({'accuracies':accuracies}, index = np.arange(1,kMax))\n",
    "results[results.accuracies == max(results.accuracies)]"
   ]
  },
  {
   "cell_type": "code",
   "execution_count": null,
   "id": "af74d48e-25e2-4c69-9573-28ac82f7ad0d",
   "metadata": {},
   "outputs": [],
   "source": []
  }
 ],
 "metadata": {
  "kernelspec": {
   "display_name": "Python 3 (ipykernel)",
   "language": "python",
   "name": "python3"
  },
  "language_info": {
   "codemirror_mode": {
    "name": "ipython",
    "version": 3
   },
   "file_extension": ".py",
   "mimetype": "text/x-python",
   "name": "python",
   "nbconvert_exporter": "python",
   "pygments_lexer": "ipython3",
   "version": "3.9.12"
  }
 },
 "nbformat": 4,
 "nbformat_minor": 5
}
