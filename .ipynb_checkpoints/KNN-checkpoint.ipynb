{
 "cells": [
  {
   "cell_type": "code",
   "execution_count": 1,
   "id": "c0b5b02f",
   "metadata": {},
   "outputs": [],
   "source": [
    "import numpy as np\n",
    "import pandas as pd\n",
    "import math\n",
    "from sklearn.preprocessing import StandardScaler\n",
    "import statistics as st\n",
    "from sklearn import datasets\n",
    "from sklearn.model_selection import train_test_split\n",
    "from sklearn.preprocessing import StandardScaler\n",
    "import matplotlib.pyplot as plt"
   ]
  },
  {
   "cell_type": "markdown",
   "id": "2cc3893d",
   "metadata": {},
   "source": [
    "# I will be creating my own class called KNN"
   ]
  },
  {
   "cell_type": "code",
   "execution_count": 2,
   "id": "bd99cbf1",
   "metadata": {},
   "outputs": [],
   "source": [
    "def euclidian(point, data):\n",
    "    #calculate the euclidean distance: sqrt((x1-y1)^2 + (x2-y2)^2 + ...)\n",
    "    dist = np.sqrt(np.sum((point - data)**2, axis=1))\n",
    "    return dist"
   ]
  },
  {
   "cell_type": "code",
   "execution_count": 3,
   "id": "8b1e8d91",
   "metadata": {},
   "outputs": [
    {
     "data": {
      "text/plain": [
       "array([2.44948974, 7.34846923])"
      ]
     },
     "execution_count": 3,
     "metadata": {},
     "output_type": "execute_result"
    }
   ],
   "source": [
    "#Check: \n",
    "data = np.array([[1,2,3,4],[5,6,7,8]])\n",
    "point = np.array([3,3,3,3])\n",
    "euclidian(point, data)"
   ]
  },
  {
   "cell_type": "code",
   "execution_count": 4,
   "id": "d1307fc5",
   "metadata": {},
   "outputs": [],
   "source": [
    "def mode(values):\n",
    "    mode = st.mode(values)\n",
    "    return mode"
   ]
  },
  {
   "cell_type": "code",
   "execution_count": 5,
   "id": "3062d1dc",
   "metadata": {},
   "outputs": [
    {
     "data": {
      "text/plain": [
       "'sad'"
      ]
     },
     "execution_count": 5,
     "metadata": {},
     "output_type": "execute_result"
    }
   ],
   "source": [
    "#Check:\n",
    "values = [3,3,3,3,3,4,4,4,4,5,5,5,5,5,5,5,5,5,5,6,6,6,6,6,8]\n",
    "values = ['happy', 'sad', 'happy', 'sad', 'sad']\n",
    "mode(values)"
   ]
  },
  {
   "cell_type": "code",
   "execution_count": 6,
   "id": "b03f7b86",
   "metadata": {},
   "outputs": [],
   "source": [
    "class KNN:\n",
    "    def __init__(self, k = 5):\n",
    "        self.k = k\n",
    "        self.dist = euclidian\n",
    "        \n",
    "    def fit(self, X_train, y_train):\n",
    "        self.X_train = X_train\n",
    "        self.y_train = y_train\n",
    "        \n",
    "    def predict(self, X_test):\n",
    "        neighbors = []\n",
    "        for x in X_test:\n",
    "            distances = self.dist(x, self.X_train)\n",
    "            y_sorted = [y for _, y in sorted(zip(distances, self.y_train))]\n",
    "            neighbors.append(y_sorted[:self.k])\n",
    "        return list(map(mode, neighbors))\n",
    "    \n",
    "    def evaluate(self, X_test, y_test):\n",
    "        y_hat = self.predict(X_test)\n",
    "        accuracy = sum(y_hat == y_test) / len(y_test)\n",
    "        return accuracy"
   ]
  },
  {
   "cell_type": "code",
   "execution_count": 7,
   "id": "0f45e461",
   "metadata": {},
   "outputs": [
    {
     "data": {
      "image/png": "[encoded data removed]",
      "text/plain": [
       "<Figure size 432x288 with 1 Axes>"
      ]
     },
     "metadata": {
      "needs_background": "light"
     },
     "output_type": "display_data"
    }
   ],
   "source": [
    "# Unpack the iris dataset, from UCI Machine Learning Repository\n",
    "iris = datasets.load_iris()\n",
    "X = iris['data']\n",
    "y = iris['target']\n",
    "# Split data into train & test sets\n",
    "X_train, X_test, y_train, y_test = train_test_split(X, y, test_size=0.2)\n",
    "# Preprocess data\n",
    "ss = StandardScaler().fit(X_train)\n",
    "X_train, X_test = ss.transform(X_train), ss.transform(X_test)\n",
    "# Test knn model across varying ks\n",
    "accuracies = []\n",
    "ks = range(1, 100)\n",
    "for k in ks:\n",
    "    knn = KNN(k=k)\n",
    "    knn.fit(X_train, y_train)\n",
    "    accuracy = knn.evaluate(X_test, y_test)\n",
    "    accuracies.append(accuracy)\n",
    "# Visualize accuracy vs. k\n",
    "fig, ax = plt.subplots()\n",
    "ax.plot(ks, accuracies)\n",
    "ax.set(xlabel=\"k\",\n",
    "       ylabel=\"Accuracy\",\n",
    "       title=\"Performance of knn\")\n",
    "plt.show()"
   ]
  },
  {
   "cell_type": "code",
   "execution_count": null,
   "id": "afd48dd7",
   "metadata": {},
   "outputs": [],
   "source": []
  },
  {
   "cell_type": "code",
   "execution_count": null,
   "id": "c4dbe832",
   "metadata": {},
   "outputs": [],
   "source": []
  }
 ],
 "metadata": {
  "kernelspec": {
   "display_name": "Python 3 (ipykernel)",
   "language": "python",
   "name": "python3"
  },
  "language_info": {
   "codemirror_mode": {
    "name": "ipython",
    "version": 3
   },
   "file_extension": ".py",
   "mimetype": "text/x-python",
   "name": "python",
   "nbconvert_exporter": "python",
   "pygments_lexer": "ipython3",
   "version": "3.9.12"
  }
 },
 "nbformat": 4,
 "nbformat_minor": 5
}
